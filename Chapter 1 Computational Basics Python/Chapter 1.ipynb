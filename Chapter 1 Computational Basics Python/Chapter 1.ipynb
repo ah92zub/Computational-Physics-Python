{
 "cells": [
  {
   "cell_type": "code",
   "execution_count": null,
   "metadata": {},
   "outputs": [],
   "source": [
    "# import libraries\n",
    "import numpy as np\n",
    "import numpy.linalg as la "
   ]
  },
  {
   "cell_type": "markdown",
   "metadata": {},
   "source": [
    "## 1.2.2 Python Matrix Tools"
   ]
  },
  {
   "cell_type": "code",
   "execution_count": null,
   "metadata": {},
   "outputs": [],
   "source": [
    "# declare vectors\n",
    "vector1 = np.array([1,0,2,1])\n",
    "print('vector 1 =', vector1)\n",
    "vector2 = vector1 + vector1\n",
    "print('vector 2 =', vector2)\n",
    "\n",
    "# declare matrices\n",
    "matrix1 = np.array([[1,2],[2,1]])\n",
    "print('matrix 1 =\\n', matrix1)\n",
    "# element by element product\n",
    "matrix2 = matrix1 * matrix1\n",
    "print('matrix 2 =\\n', matrix2)"
   ]
  },
  {
   "cell_type": "code",
   "execution_count": null,
   "metadata": {},
   "outputs": [],
   "source": [
    "# declare a vector of first 12 integers\n",
    "a = np.arange(12)\n",
    "print('vector a=', a)\n",
    "# shape of vector a\n",
    "print('Shape of vector a=', a.shape)\n",
    "# dimension of vector a\n",
    "print('Dimensions of vector a=', a.ndim)\n",
    "# number of elements in vector a\n",
    "print('Number of elements in a=', a.size)\n",
    "\n",
    "# reshape into 3 rows and 4 cols\n",
    "a = a.reshape(3,4)\n",
    "print('Reshaped vector a= \\n', a)\n",
    "# print shape of vector a\n",
    "print('Shape of vector a=', a.shape)\n",
    "# dimension of vector a\n",
    "print('Dimensions of vector a=', a.ndim)\n",
    "# number of elements in vector a\n",
    "print('Number of elements in a=', a.size)"
   ]
  },
  {
   "cell_type": "code",
   "execution_count": null,
   "metadata": {},
   "outputs": [],
   "source": [
    "# element by element multiplication of matrices\n",
    "matrix3 = np.array([[1,2],[3,4]])\n",
    "matrix4 = matrix3 * matrix3\n",
    "print('Element wise multiplication results= \\n', matrix4)\n",
    "\n",
    "# conventional multiplication of matrices\n",
    "matrix5 = np.dot(matrix3, matrix3)\n",
    "print('Conventional multiplication results= \\n', matrix5)"
   ]
  },
  {
   "cell_type": "code",
   "execution_count": null,
   "metadata": {},
   "outputs": [],
   "source": [
    "# solve a system of linear equations Ax = b\n",
    "A = np.array([[1,2,3],[22,32,42],[55,66,100]])\n",
    "b = np.array([1,2,3])\n",
    "print('A is = \\n', A)\n",
    "print('b is = \\n', b)\n",
    "\n",
    "# find the solution using numerical techniques\n",
    "x = la.solve(A, b)\n",
    "print('x is = \\n', x)\n",
    "\n",
    "# calculate the residuals of the approximation\n",
    "residuals = np.dot(A,x) - b\n",
    "print('Residuals are = \\n', residuals)\n",
    "residuals_norm = la.norm(residuals)\n",
    "print('The norm of the residuals is =', residuals_norm)"
   ]
  },
  {
   "cell_type": "code",
   "execution_count": null,
   "metadata": {},
   "outputs": [],
   "source": [
    "# Calculating inverse, an inefficient way of solving Ax = b\n",
    "A_inv = la.inv(A)\n",
    "print('The inverse of A is = \\n', A_inv)\n",
    "\n",
    "# testing inverse\n",
    "print('A_inv * A = \\n',np.dot(A_inv, A))\n",
    "\n",
    "# solving the system using inverse x = A_inv*b\n",
    "x_inv = np.dot(A_inv, b)\n",
    "print('x is =', x_inv)\n",
    "\n",
    "# testing the solution\n",
    "residuals_inv = np.dot(A, x_inv) - b\n",
    "print('The residuals are = \\n', residuals_inv)\n",
    "residuals_inv_norm = la.norm(residuals_inv)\n",
    "print('The norm of the residuals is =', residuals_inv_norm)"
   ]
  },
  {
   "cell_type": "code",
   "execution_count": null,
   "metadata": {},
   "outputs": [],
   "source": [
    "# solving Eigen value problem I*w = Lambda*w\n",
    "I = np.array([[2./3, -1./4],[-1./4, 2./3]])\n",
    "print('I = \\n', I)\n",
    "\n",
    "# calculating eigenvectors and eigenvalues\n",
    "Es, evectors = la.eig(I)\n",
    "print('Eigenvalues are = \\n', Es)\n",
    "print('Eigenvectors are = \\n', evectors)\n",
    "\n",
    "# checking the solution\n",
    "RHS = np.zeros(evectors.shape)\n",
    "LHS = np.zeros(evectors.shape)\n",
    "for indx, Lambda in np.ndenumerate(Es):\n",
    "    RHS[:,indx] = Lambda * evectors[:,indx]\n",
    "    LHS[:,indx] = np.dot(I, evectors[:,indx])\n",
    "\n",
    "print('RHS - LHS = \\n', RHS - LHS)"
   ]
  },
  {
   "cell_type": "markdown",
   "metadata": {},
   "source": [
    "## 1.2.3 Python Algebraic Tools"
   ]
  },
  {
   "cell_type": "code",
   "execution_count": null,
   "metadata": {},
   "outputs": [],
   "source": []
  }
 ],
 "metadata": {
  "kernelspec": {
   "display_name": "CPP",
   "language": "python",
   "name": "python3"
  },
  "language_info": {
   "codemirror_mode": {
    "name": "ipython",
    "version": 3
   },
   "file_extension": ".py",
   "mimetype": "text/x-python",
   "name": "python",
   "nbconvert_exporter": "python",
   "pygments_lexer": "ipython3",
   "version": "3.12.2"
  }
 },
 "nbformat": 4,
 "nbformat_minor": 2
}
