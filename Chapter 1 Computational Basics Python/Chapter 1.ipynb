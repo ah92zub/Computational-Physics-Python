{
 "cells": [
  {
   "cell_type": "code",
   "execution_count": 1,
   "metadata": {},
   "outputs": [],
   "source": [
    "# import libraries\n",
    "import numpy as np\n",
    "import numpy.linalg as la \n",
    "import pylab as p"
   ]
  },
  {
   "cell_type": "markdown",
   "metadata": {},
   "source": [
    "## 1.2.2 Python Matrix Tools"
   ]
  },
  {
   "cell_type": "code",
   "execution_count": 2,
   "metadata": {},
   "outputs": [
    {
     "name": "stdout",
     "output_type": "stream",
     "text": [
      "vector 1 = [1 0 2 1]\n",
      "vector 2 = [2 0 4 2]\n",
      "matrix 1 =\n",
      " [[1 2]\n",
      " [2 1]]\n",
      "matrix 2 =\n",
      " [[1 4]\n",
      " [4 1]]\n"
     ]
    }
   ],
   "source": [
    "# declare vectors\n",
    "vector1 = np.array([1,0,2,1])\n",
    "print('vector 1 =', vector1)\n",
    "vector2 = vector1 + vector1\n",
    "print('vector 2 =', vector2)\n",
    "\n",
    "# declare matrices\n",
    "matrix1 = np.array([[1,2],[2,1]])\n",
    "print('matrix 1 =\\n', matrix1)\n",
    "# element by element product\n",
    "matrix2 = matrix1 * matrix1\n",
    "print('matrix 2 =\\n', matrix2)"
   ]
  },
  {
   "cell_type": "code",
   "execution_count": 3,
   "metadata": {},
   "outputs": [
    {
     "name": "stdout",
     "output_type": "stream",
     "text": [
      "vector a= [ 0  1  2  3  4  5  6  7  8  9 10 11]\n",
      "Shape of vector a= (12,)\n",
      "Dimensions of vector a= 1\n",
      "Number of elements in a= 12\n",
      "Reshaped vector a= \n",
      " [[ 0  1  2  3]\n",
      " [ 4  5  6  7]\n",
      " [ 8  9 10 11]]\n",
      "Shape of vector a= (3, 4)\n",
      "Dimensions of vector a= 2\n",
      "Number of elements in a= 12\n"
     ]
    }
   ],
   "source": [
    "# declare a vector of first 12 integers\n",
    "a = np.arange(12)\n",
    "print('vector a=', a)\n",
    "# shape of vector a\n",
    "print('Shape of vector a=', a.shape)\n",
    "# dimension of vector a\n",
    "print('Dimensions of vector a=', a.ndim)\n",
    "# number of elements in vector a\n",
    "print('Number of elements in a=', a.size)\n",
    "\n",
    "# reshape into 3 rows and 4 cols\n",
    "a = a.reshape(3,4)\n",
    "print('Reshaped vector a= \\n', a)\n",
    "# print shape of vector a\n",
    "print('Shape of vector a=', a.shape)\n",
    "# dimension of vector a\n",
    "print('Dimensions of vector a=', a.ndim)\n",
    "# number of elements in vector a\n",
    "print('Number of elements in a=', a.size)"
   ]
  },
  {
   "cell_type": "code",
   "execution_count": 4,
   "metadata": {},
   "outputs": [
    {
     "name": "stdout",
     "output_type": "stream",
     "text": [
      "Element wise multiplication results= \n",
      " [[ 1  4]\n",
      " [ 9 16]]\n",
      "Conventional multiplication results= \n",
      " [[ 7 10]\n",
      " [15 22]]\n"
     ]
    }
   ],
   "source": [
    "# element by element multiplication of matrices\n",
    "matrix3 = np.array([[1,2],[3,4]])\n",
    "matrix4 = matrix3 * matrix3\n",
    "print('Element wise multiplication results= \\n', matrix4)\n",
    "\n",
    "# conventional multiplication of matrices\n",
    "matrix5 = np.dot(matrix3, matrix3)\n",
    "print('Conventional multiplication results= \\n', matrix5)"
   ]
  },
  {
   "cell_type": "code",
   "execution_count": 5,
   "metadata": {},
   "outputs": [
    {
     "name": "stdout",
     "output_type": "stream",
     "text": [
      "A is = \n",
      " [[  1   2   3]\n",
      " [ 22  32  42]\n",
      " [ 55  66 100]]\n",
      "b is = \n",
      " [1 2 3]\n",
      "x is = \n",
      " [-1.4057971  -0.1884058   0.92753623]\n",
      "Residuals are = \n",
      " [ 0.00000000e+00 -2.66453526e-15 -5.32907052e-15]\n",
      "The norm of the residuals is = 5.9580819677934555e-15\n"
     ]
    }
   ],
   "source": [
    "# solve a system of linear equations Ax = b\n",
    "A = np.array([[1,2,3],[22,32,42],[55,66,100]])\n",
    "b = np.array([1,2,3])\n",
    "print('A is = \\n', A)\n",
    "print('b is = \\n', b)\n",
    "\n",
    "# find the solution using numerical techniques\n",
    "x = la.solve(A, b)\n",
    "print('x is = \\n', x)\n",
    "\n",
    "# calculate the residuals of the approximation\n",
    "residuals = np.dot(A,x) - b\n",
    "print('Residuals are = \\n', residuals)\n",
    "residuals_norm = la.norm(residuals)\n",
    "print('The norm of the residuals is =', residuals_norm)"
   ]
  },
  {
   "cell_type": "code",
   "execution_count": 6,
   "metadata": {},
   "outputs": [
    {
     "name": "stdout",
     "output_type": "stream",
     "text": [
      "The inverse of A is = \n",
      " [[-1.55072464  0.00724638  0.04347826]\n",
      " [-0.39855072  0.23550725 -0.08695652]\n",
      " [ 1.11594203 -0.15942029  0.04347826]]\n",
      "A_inv * A = \n",
      " [[ 1.0000000e+00 -4.4408921e-16 -8.8817842e-16]\n",
      " [ 8.8817842e-16  1.0000000e+00  0.0000000e+00]\n",
      " [-8.8817842e-16  0.0000000e+00  1.0000000e+00]]\n",
      "x is = [-1.4057971  -0.1884058   0.92753623]\n",
      "The residuals are = \n",
      " [ 0.00000000e+00 -1.77635684e-15 -3.55271368e-15]\n",
      "The norm of the residuals is = 3.972054645195637e-15\n"
     ]
    }
   ],
   "source": [
    "# Calculating inverse, an inefficient way of solving Ax = b\n",
    "A_inv = la.inv(A)\n",
    "print('The inverse of A is = \\n', A_inv)\n",
    "\n",
    "# testing inverse\n",
    "print('A_inv * A = \\n',np.dot(A_inv, A))\n",
    "\n",
    "# solving the system using inverse x = A_inv*b\n",
    "x_inv = np.dot(A_inv, b)\n",
    "print('x is =', x_inv)\n",
    "\n",
    "# testing the solution\n",
    "residuals_inv = np.dot(A, x_inv) - b\n",
    "print('The residuals are = \\n', residuals_inv)\n",
    "residuals_inv_norm = la.norm(residuals_inv)\n",
    "print('The norm of the residuals is =', residuals_inv_norm)"
   ]
  },
  {
   "cell_type": "code",
   "execution_count": 7,
   "metadata": {},
   "outputs": [
    {
     "name": "stdout",
     "output_type": "stream",
     "text": [
      "I = \n",
      " [[ 0.66666667 -0.25      ]\n",
      " [-0.25        0.66666667]]\n",
      "Eigenvalues are = \n",
      " [0.91666667 0.41666667]\n",
      "Eigenvectors are = \n",
      " [[ 0.70710678  0.70710678]\n",
      " [-0.70710678  0.70710678]]\n",
      "RHS - LHS = \n",
      " [[-1.11022302e-16  0.00000000e+00]\n",
      " [ 1.11022302e-16  0.00000000e+00]]\n"
     ]
    }
   ],
   "source": [
    "# solving Eigen value problem I*w = Lambda*w\n",
    "I = np.array([[2./3, -1./4],[-1./4, 2./3]])\n",
    "print('I = \\n', I)\n",
    "\n",
    "# calculating eigenvectors and eigenvalues\n",
    "Es, evectors = la.eig(I)\n",
    "print('Eigenvalues are = \\n', Es)\n",
    "print('Eigenvectors are = \\n', evectors)\n",
    "\n",
    "# checking the solution\n",
    "RHS = np.zeros(evectors.shape)\n",
    "LHS = np.zeros(evectors.shape)\n",
    "for indx, Lambda in np.ndenumerate(Es):\n",
    "    RHS[:,indx] = Lambda * evectors[:,indx]\n",
    "    LHS[:,indx] = np.dot(I, evectors[:,indx])\n",
    "\n",
    "print('RHS - LHS = \\n', RHS - LHS)"
   ]
  },
  {
   "cell_type": "markdown",
   "metadata": {},
   "source": [
    "## 1.2.3 Python Algebraic Tools"
   ]
  },
  {
   "cell_type": "code",
   "execution_count": 8,
   "metadata": {},
   "outputs": [],
   "source": [
    "# import sympy\n",
    "import sympy as sym"
   ]
  },
  {
   "cell_type": "markdown",
   "metadata": {},
   "source": [
    "### Symbolic Differentiation"
   ]
  },
  {
   "cell_type": "code",
   "execution_count": 9,
   "metadata": {},
   "outputs": [
    {
     "data": {
      "text/latex": [
       "$\\displaystyle \\tan^{2}{\\left(x \\right)} + 1$"
      ],
      "text/plain": [
       "tan(x)**2 + 1"
      ]
     },
     "execution_count": 9,
     "metadata": {},
     "output_type": "execute_result"
    }
   ],
   "source": [
    "x, y = sym.symbols('x y')\n",
    "\n",
    "# derivative of tan(x)\n",
    "y = sym.diff(sym.tan(x), x)\n",
    "y"
   ]
  },
  {
   "cell_type": "code",
   "execution_count": 10,
   "metadata": {},
   "outputs": [
    {
     "data": {
      "text/latex": [
       "$\\displaystyle 20 x^{3} + 14 x$"
      ],
      "text/plain": [
       "20*x**3 + 14*x"
      ]
     },
     "execution_count": 10,
     "metadata": {},
     "output_type": "execute_result"
    }
   ],
   "source": [
    "# first order derivative wrt x\n",
    "y2 = sym.diff(5*x**4 + 7*x**2, x, 1 )\n",
    "y2"
   ]
  },
  {
   "cell_type": "code",
   "execution_count": 11,
   "metadata": {},
   "outputs": [
    {
     "data": {
      "text/latex": [
       "$\\displaystyle 2 \\cdot \\left(30 x^{2} + 7\\right)$"
      ],
      "text/plain": [
       "2*(30*x**2 + 7)"
      ]
     },
     "execution_count": 11,
     "metadata": {},
     "output_type": "execute_result"
    }
   ],
   "source": [
    "# second order derivative wrt x\n",
    "y3 = sym.diff(5*x**4 + 7*x**2, x, 2 )\n",
    "y3"
   ]
  },
  {
   "cell_type": "markdown",
   "metadata": {},
   "source": [
    "### Expanding Algebraic Expressions and Series Expansions"
   ]
  },
  {
   "cell_type": "code",
   "execution_count": 12,
   "metadata": {},
   "outputs": [
    {
     "data": {
      "text/latex": [
       "$\\displaystyle x^{8} + 8 x^{7} y + 28 x^{6} y^{2} + 56 x^{5} y^{3} + 70 x^{4} y^{4} + 56 x^{3} y^{5} + 28 x^{2} y^{6} + 8 x y^{7} + y^{8}$"
      ],
      "text/plain": [
       "x**8 + 8*x**7*y + 28*x**6*y**2 + 56*x**5*y**3 + 70*x**4*y**4 + 56*x**3*y**5 + 28*x**2*y**6 + 8*x*y**7 + y**8"
      ]
     },
     "execution_count": 12,
     "metadata": {},
     "output_type": "execute_result"
    }
   ],
   "source": [
    "# expanding algebraic expressions\n",
    "x, y = sym.symbols('x y')\n",
    "z = (x + y)**8;\n",
    "sym.expand(z)"
   ]
  },
  {
   "cell_type": "code",
   "execution_count": 13,
   "metadata": {},
   "outputs": [
    {
     "data": {
      "text/latex": [
       "$\\displaystyle x - \\frac{x^{3}}{6} + \\frac{x^{5}}{120} + O\\left(x^{6}\\right)$"
      ],
      "text/plain": [
       "x - x**3/6 + x**5/120 + O(x**6)"
      ]
     },
     "execution_count": 13,
     "metadata": {},
     "output_type": "execute_result"
    }
   ],
   "source": [
    "# series expansion of sine at x = 0\n",
    "sym.sin(x).series(x, 0)"
   ]
  },
  {
   "cell_type": "code",
   "execution_count": 14,
   "metadata": {},
   "outputs": [
    {
     "data": {
      "text/latex": [
       "$\\displaystyle \\sin{\\left(10 \\right)} + \\left(x - 10\\right) \\cos{\\left(10 \\right)} - \\frac{\\left(x - 10\\right)^{2} \\sin{\\left(10 \\right)}}{2} - \\frac{\\left(x - 10\\right)^{3} \\cos{\\left(10 \\right)}}{6} + \\frac{\\left(x - 10\\right)^{4} \\sin{\\left(10 \\right)}}{24} + \\frac{\\left(x - 10\\right)^{5} \\cos{\\left(10 \\right)}}{120} + O\\left(\\left(x - 10\\right)^{6}; x\\rightarrow 10\\right)$"
      ],
      "text/plain": [
       "sin(10) + (x - 10)*cos(10) - (x - 10)**2*sin(10)/2 - (x - 10)**3*cos(10)/6 + (x - 10)**4*sin(10)/24 + (x - 10)**5*cos(10)/120 + O((x - 10)**6, (x, 10))"
      ]
     },
     "execution_count": 14,
     "metadata": {},
     "output_type": "execute_result"
    }
   ],
   "source": [
    "# series expansion of sin at x = 10\n",
    "sym.sin(x).series(x, 10)"
   ]
  },
  {
   "cell_type": "code",
   "execution_count": 15,
   "metadata": {},
   "outputs": [
    {
     "data": {
      "text/latex": [
       "$\\displaystyle 1 + \\frac{x^{2}}{2} + \\frac{5 x^{4}}{24} + O\\left(x^{6}\\right)$"
      ],
      "text/plain": [
       "1 + x**2/2 + 5*x**4/24 + O(x**6)"
      ]
     },
     "execution_count": 15,
     "metadata": {},
     "output_type": "execute_result"
    }
   ],
   "source": [
    "# series expansions of 1/cos x\n",
    "z = 1/sym.cos(x)\n",
    "z.series(x, 0)"
   ]
  },
  {
   "cell_type": "markdown",
   "metadata": {},
   "source": [
    "### Factoring and Simplifying Equations"
   ]
  },
  {
   "cell_type": "code",
   "execution_count": 16,
   "metadata": {},
   "outputs": [
    {
     "data": {
      "text/latex": [
       "$\\displaystyle \\left(x - 1\\right) \\left(x + 1\\right)$"
      ],
      "text/plain": [
       "(x - 1)*(x + 1)"
      ]
     },
     "execution_count": 16,
     "metadata": {},
     "output_type": "execute_result"
    }
   ],
   "source": [
    "# factoring \n",
    "sym.factor(x**2 - 1)"
   ]
  },
  {
   "cell_type": "code",
   "execution_count": 17,
   "metadata": {},
   "outputs": [
    {
     "data": {
      "text/latex": [
       "$\\displaystyle \\left(x - 1\\right) \\left(x^{2} + 1\\right)$"
      ],
      "text/plain": [
       "(x - 1)*(x**2 + 1)"
      ]
     },
     "execution_count": 17,
     "metadata": {},
     "output_type": "execute_result"
    }
   ],
   "source": [
    "sym.factor(x**3 - x**2 + x - 1)"
   ]
  },
  {
   "cell_type": "code",
   "execution_count": 18,
   "metadata": {},
   "outputs": [
    {
     "data": {
      "text/latex": [
       "$\\displaystyle x - 1$"
      ],
      "text/plain": [
       "x - 1"
      ]
     },
     "execution_count": 18,
     "metadata": {},
     "output_type": "execute_result"
    }
   ],
   "source": [
    "sym.simplify((x**3 + x**2 - x - 1)/(x**2 + 2*x + 1))"
   ]
  },
  {
   "cell_type": "code",
   "execution_count": 19,
   "metadata": {},
   "outputs": [
    {
     "data": {
      "text/latex": [
       "$\\displaystyle \\left(x + y\\right)^{3}$"
      ],
      "text/plain": [
       "(x + y)**3"
      ]
     },
     "execution_count": 19,
     "metadata": {},
     "output_type": "execute_result"
    }
   ],
   "source": [
    "sym.factor(x**3 + 3*x**2*y + 3*x*y**2 + y**3)"
   ]
  },
  {
   "cell_type": "code",
   "execution_count": 20,
   "metadata": {},
   "outputs": [
    {
     "data": {
      "text/latex": [
       "$\\displaystyle \\frac{1}{\\cos^{2}{\\left(x \\right)}}$"
      ],
      "text/plain": [
       "cos(x)**(-2)"
      ]
     },
     "execution_count": 20,
     "metadata": {},
     "output_type": "execute_result"
    }
   ],
   "source": [
    "sym.simplify(1 + sym.tan(x)**2)"
   ]
  },
  {
   "cell_type": "markdown",
   "metadata": {},
   "source": [
    "## 1.3 Dealing with Floating Point Numbers"
   ]
  },
  {
   "cell_type": "code",
   "execution_count": 21,
   "metadata": {},
   "outputs": [
    {
     "name": "stdout",
     "output_type": "stream",
     "text": [
      "Overflow error occurred at loop number 1024. The largest number is 8.988466e+307\n"
     ]
    }
   ],
   "source": [
    "# Determining the overflow and underflow limits of the computer\n",
    "over = 1.\n",
    "max_number = over\n",
    "N = 1200\n",
    "\n",
    "for i in range(N):\n",
    "    max_number = over\n",
    "    over = over * 2\n",
    "    if over == float('inf'):\n",
    "        txt = 'Overflow error occurred at loop number {:n}. The largest number is {:e}'\n",
    "        print(txt.format(i + 1, max_number))\n",
    "        break"
   ]
  },
  {
   "cell_type": "code",
   "execution_count": 22,
   "metadata": {},
   "outputs": [
    {
     "name": "stdout",
     "output_type": "stream",
     "text": [
      "Underflow error occurred at loop number 1075. The smallest number is 4.940656e-324\n"
     ]
    }
   ],
   "source": [
    "under = 1\n",
    "min_number = under\n",
    "N = 1200\n",
    "for i in range(N):\n",
    "    min_number = under\n",
    "    under = under/2\n",
    "    #print('loop number {:n}, under {:e}'.format(i + 1, under))\n",
    "    if under == 0:\n",
    "        txt = 'Underflow error occurred at loop number {:n}. The smallest number is {:e}'\n",
    "        print(txt.format(i + 1, min_number))\n",
    "        break\n",
    "\n"
   ]
  },
  {
   "cell_type": "code",
   "execution_count": 23,
   "metadata": {},
   "outputs": [
    {
     "name": "stdout",
     "output_type": "stream",
     "text": [
      "Machine precision for floating numbers is = 1.1102230246251565e-16\n"
     ]
    }
   ],
   "source": [
    "# computing machine precision for floating point numbers\n",
    "eps = 1.\n",
    "while True:\n",
    "    eps = eps/2\n",
    "    if 1 == (1 + eps):\n",
    "        print('Machine precision for floating numbers is =', eps)\n",
    "        break"
   ]
  },
  {
   "cell_type": "code",
   "execution_count": 24,
   "metadata": {},
   "outputs": [
    {
     "name": "stdout",
     "output_type": "stream",
     "text": [
      "Machine precision for complex numbers in = 1.1102230246251565e-16\n"
     ]
    }
   ],
   "source": [
    "# computing machine precision for complex numbers\n",
    "eps = complex(1,0)\n",
    "while True:\n",
    "    eps = eps/2\n",
    "    if complex(1,0) == (complex(1,0) + eps):\n",
    "        print('Machine precision for complex numbers in =', abs(eps))\n",
    "        break"
   ]
  },
  {
   "cell_type": "markdown",
   "metadata": {},
   "source": [
    "## 1.4 Numerical Differentiation"
   ]
  },
  {
   "cell_type": "code",
   "execution_count": 25,
   "metadata": {},
   "outputs": [],
   "source": [
    "def forward_diff(f, x: float, step_size: float) -> float:\n",
    "    return (f(x+step_size) - f(x))/step_size\n",
    "\n",
    "def central_diff(f, x: float, step_size: float) -> float:\n",
    "    return (f(x+step_size/2) - f(x-step_size/2))/step_size"
   ]
  },
  {
   "cell_type": "code",
   "execution_count": 26,
   "metadata": {},
   "outputs": [
    {
     "data": {
      "text/plain": [
       "<matplotlib.legend.Legend at 0x76c4ea7f0ad0>"
      ]
     },
     "execution_count": 26,
     "metadata": {},
     "output_type": "execute_result"
    },
    {
     "data": {
      "image/png": "[encoded data removed]",
      "text/plain": [
       "<Figure size 640x480 with 1 Axes>"
      ]
     },
     "metadata": {},
     "output_type": "display_data"
    }
   ],
   "source": [
    "# Forward Difference and Central Difference Error Analysis for cos\n",
    "func = np.cos\n",
    "dfunc = np.sin   # incorporate the - in the formula later on\n",
    "#step size\n",
    "h = np.logspace(-15,-1,100)\n",
    "# independent variable definition \n",
    "t = np.arange(1.,101.)\n",
    "t = np.insert(t, 0, 0.1)\n",
    "# relative error array\n",
    "rel_err_fd= np.zeros(h.shape)\n",
    "rel_err_cd= np.zeros(h.shape)\n",
    "\n",
    "for indx,step_size in enumerate(h):\n",
    "    # forward difference calculation\n",
    "    df_fd = forward_diff(func, t, step_size)\n",
    "    # central difference calculation\n",
    "    df_cd = central_diff(func, t, step_size)\n",
    "    # error calculation\n",
    "    err_fd = df_fd + dfunc(t)   # - in the derivative incorporated\n",
    "    rel_err_fd[indx] = la.norm(err_fd, 1)\n",
    "    err_cd = df_cd + dfunc(t)\n",
    "    rel_err_cd[indx] = la.norm(err_cd, 1)\n",
    "\n",
    "# Plotting relative error\n",
    "p.xscale(\"log\")\n",
    "p.yscale(\"log\")\n",
    "p.xlabel(r'$h$')\n",
    "p.ylabel(r'$\\mathcal{E}$')\n",
    "p.title(r'First Order $cos(t)$')\n",
    "p.grid(True)\n",
    "p.plot(h, rel_err_fd, 'r', h, rel_err_cd, 'b')\n",
    "p.legend(['Forward Diff','Central Diff'])"
   ]
  },
  {
   "cell_type": "code",
   "execution_count": 27,
   "metadata": {},
   "outputs": [
    {
     "data": {
      "text/plain": [
       "<matplotlib.legend.Legend at 0x76c4ea3f7380>"
      ]
     },
     "execution_count": 27,
     "metadata": {},
     "output_type": "execute_result"
    },
    {
     "data": {
      "image/png": "[encoded data removed]",
      "text/plain": [
       "<Figure size 640x480 with 1 Axes>"
      ]
     },
     "metadata": {},
     "output_type": "display_data"
    }
   ],
   "source": [
    "# Forward and Central Difference error analysis of e^t\n",
    "func = np.exp\n",
    "dfunc = np.exp\n",
    "#step size\n",
    "h = np.logspace(-15,-1,100)\n",
    "# independent variable definition \n",
    "t = np.arange(1.,101.)\n",
    "t = np.insert(t, 0, 0.1)\n",
    "# relative error array\n",
    "rel_err_fd= np.zeros(h.shape)\n",
    "rel_err_cd= np.zeros(h.shape)\n",
    "\n",
    "for indx,step_size in enumerate(h):\n",
    "    # forward difference calculation\n",
    "    df_fd = forward_diff(func, t, step_size)\n",
    "    # central difference calculation\n",
    "    df_cd = central_diff(func, t, step_size)\n",
    "    # error calculation\n",
    "    err_fd = df_fd - dfunc(t)\n",
    "    rel_err_fd[indx] = la.norm(err_fd, 1)\n",
    "    err_cd = df_cd - dfunc(t)\n",
    "    rel_err_cd[indx] = la.norm(err_cd, 1)\n",
    "\n",
    "# Plotting relative error\n",
    "p.xscale(\"log\")\n",
    "p.yscale(\"log\")\n",
    "p.xlabel(r'$h$')\n",
    "p.ylabel(r'$\\mathcal{E}$')\n",
    "p.title(r'First Order $cos(t)$')\n",
    "p.grid(True)\n",
    "p.plot(h, rel_err_fd, 'r', h, rel_err_cd, 'b')\n",
    "p.legend(['Forward Diff', 'Central Diff'])"
   ]
  },
  {
   "cell_type": "markdown",
   "metadata": {},
   "source": [
    "### Analysis of results\n",
    "We can see that the slope for the central difference is steeper than that of the forward difference up till a certain point. The error also decreases as the step size decrease up to a point but then it starts to increase as the round-off error begins to dominate. We can see the random oscillations come into the error at this stage."
   ]
  },
  {
   "cell_type": "code",
   "execution_count": 28,
   "metadata": {},
   "outputs": [
    {
     "data": {
      "text/plain": [
       "[<matplotlib.lines.Line2D at 0x76c4ea276960>]"
      ]
     },
     "execution_count": 28,
     "metadata": {},
     "output_type": "execute_result"
    },
    {
     "data": {
      "image/png": "[encoded data removed]",
      "text/plain": [
       "<Figure size 640x480 with 1 Axes>"
      ]
     },
     "metadata": {},
     "output_type": "display_data"
    }
   ],
   "source": [
    "# Second Order Central Difference error analysis of cost\n",
    "func = np.cos\n",
    "dfunc_2 = np.cos # -cos , we cater for the - in the error formula\n",
    "#step size\n",
    "h = np.logspace(-15,-1,100)\n",
    "# independent variable definition \n",
    "t = np.arange(0,8*np.pi,0.1)\n",
    "# relative error array\n",
    "rel_err_cd_2= np.zeros(h.shape)\n",
    "\n",
    "for indx,step_size in enumerate(h):\n",
    "    # second order centeral difference calculation\n",
    "    df_cd_2 = (func(t + step_size) + func(t - step_size) - 2*func(t))/step_size**2\n",
    "    # error calculation\n",
    "    err_cd_2 = df_cd_2 + dfunc_2(t)\n",
    "    rel_err_cd_2[indx] = la.norm(err_cd_2, 1)\n",
    "\n",
    "# Plotting relative error\n",
    "p.xscale(\"log\")\n",
    "p.yscale(\"log\")\n",
    "p.xlabel(r'$h$')\n",
    "p.ylabel(r'$\\mathcal{E}$')\n",
    "p.title(r'Second Order CD $cos(t)$')\n",
    "p.grid(True)\n",
    "p.plot(h, rel_err_cd_2)\n"
   ]
  },
  {
   "cell_type": "markdown",
   "metadata": {},
   "source": [
    "## 1.5 Numerical Integration"
   ]
  },
  {
   "cell_type": "code",
   "execution_count": 32,
   "metadata": {},
   "outputs": [],
   "source": [
    "def Integrate_Trapezoidal(func, a: float, b: float, N: int) -> float:\n",
    "    h = (b - a)/(N - 1)\n",
    "    # define time vector\n",
    "    t = np.linspace(a,b,N)\n",
    "    # define the Trapezoidal weights\n",
    "    w = h*np.ones(N)\n",
    "    w[0] = w[0]/2\n",
    "    w[-1] = w[-1]/2\n",
    "    # calculate the integral\n",
    "    return np.dot(w, func(t))"
   ]
  },
  {
   "cell_type": "code",
   "execution_count": 33,
   "metadata": {},
   "outputs": [
    {
     "data": {
      "text/plain": [
       "[<matplotlib.lines.Line2D at 0x76c4e8d58140>]"
      ]
     },
     "execution_count": 33,
     "metadata": {},
     "output_type": "execute_result"
    },
    {
     "data": {
      "image/png": "[encoded data removed]",
      "text/plain": [
       "<Figure size 640x480 with 1 Axes>"
      ]
     },
     "metadata": {},
     "output_type": "display_data"
    }
   ],
   "source": [
    "# define function, limits and number of points\n",
    "func = np.sin\n",
    "exact = 2\n",
    "a = 0\n",
    "b = np.pi\n",
    "N = np.logspace(2,8,10)\n",
    "N = N.astype(int)\n",
    "rel_approx_err = np.zeros(N.shape)\n",
    "\n",
    "for indx, num_points in np.ndenumerate(N):\n",
    "    integral_trapezoidal = Integrate_Trapezoidal(func, a, b, num_points)\n",
    "    # error \n",
    "    rel_approx_err[indx] = abs((integral_trapezoidal - exact)/exact)\n",
    "\n",
    "# plot the error graph\n",
    "p.title(r'Approximation Error $sin(t)$')\n",
    "p.xscale(\"log\")\n",
    "p.yscale(\"log\")\n",
    "p.xlabel('N')\n",
    "p.ylabel(r'$\\mathcal{E}$')\n",
    "p.grid(True)\n",
    "p.plot(N,rel_approx_err)"
   ]
  },
  {
   "cell_type": "code",
   "execution_count": 31,
   "metadata": {},
   "outputs": [
    {
     "name": "stdout",
     "output_type": "stream",
     "text": [
      "3.14159268500572e-08\n"
     ]
    }
   ],
   "source": [
    "print(h)"
   ]
  },
  {
   "cell_type": "code",
   "execution_count": null,
   "metadata": {},
   "outputs": [],
   "source": []
  }
 ],
 "metadata": {
  "kernelspec": {
   "display_name": "CPP",
   "language": "python",
   "name": "python3"
  },
  "language_info": {
   "codemirror_mode": {
    "name": "ipython",
    "version": 3
   },
   "file_extension": ".py",
   "mimetype": "text/x-python",
   "name": "python",
   "nbconvert_exporter": "python",
   "pygments_lexer": "ipython3",
   "version": "3.12.2"
  }
 },
 "nbformat": 4,
 "nbformat_minor": 2
}
